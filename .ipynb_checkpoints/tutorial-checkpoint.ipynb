{
 "cells": [
  {
   "cell_type": "markdown",
   "metadata": {},
   "source": [
    "Hello this is a test of how Markdown renders!"
   ]
  },
  {
   "cell_type": "markdown",
   "metadata": {},
   "source": [
    "<h1> Hello, this is a h1 tag.</h1>"
   ]
  },
  {
   "cell_type": "markdown",
   "metadata": {},
   "source": [
    "<h1 style=\"text-align:center\"> Hello </h1>"
   ]
  },
  {
   "cell_type": "markdown",
   "metadata": {},
   "source": [
    "<!doctype html>\n",
    "<html lang=\"en\">\n",
    "\t<head>\n",
    "\t\t<meta charset=\"utf-8\">\n",
    "\t\t<meta name=\"description\" content=\"Ethan Mehta's Home Page\">\n",
    "\t\t<meta name=\"viewport\" content=\"width=device-width, initial-scale=1, shrink-to-fit=no\">\n",
    "\t\t<meta name=\"author\" content=\"Ethan Mehta\">\n",
    "\t\t<link rel=\"stylesheet\" href=\"https://stackpath.bootstrapcdn.com/bootstrap/4.4.1/css/bootstrap.min.css\" integrity=\"sha384-Vkoo8x4CGsO3+Hhxv8T/Q5PaXtkKtu6ug5TOeNV6gBiFeWPGFN9MuhOf23Q9Ifjh\" crossorigin=\"anonymous\">\n",
    "\t\t<title>Ethan Mehta</title>\n",
    "\t</head>\n",
    "\t<body class=\"bg-light\">\n",
    "\t\t<div class=\"container\">\n",
    "\t\t\t<nav class=\"navbar navbar-expand-lg navbar-light light-bg\">\n",
    "\t\t\t\t<span class=\"navbar-brand\" href=\"#\">Ethan Mehta</span>\n",
    "\t\t\t\t<button class=\"navbar-toggler\" type=\"button\" data-toggle=\"collapse\" data-target=\"#navbarNavAltMarkup\" aria-controls=\"navbarNavAltMarkup\" aria-expanded=\"false\" aria-label=\"Toggle navigation\">\n",
    "\t\t\t\t  <span class=\"navbar-toggler-icon\"></span>\n",
    "\t\t\t\t</button>\n",
    "\t\t\t\t<div class=\"collapse navbar-collapse\" id=\"navbarNavAltMarkup\">\n",
    "\t\t\t\t  <div class=\"navbar-nav\">\n",
    "\t\t\t\t\t<a class=\"nav-item nav-link active\" href=\"#\">Projects <span class=\"sr-only\">(current)</span></a>\n",
    "\t\t\t\t\t<a class=\"nav-item nav-link\" href=\"teaching.html\">Teaching</a>\n",
    "\t\t\t\t\t<a class=\"nav-item nav-link\" href=\"about.html\">About Me</a>\n",
    "\t\t\t\t  </div>\n",
    "\t\t\t\t</div>\n",
    "\t\t\t</nav>\n",
    "\t\t</div>\n",
    "\t\t<div class=\"container-fluid\"></div>\n",
    "\t\t<div class=\"jumbotron text-center jumbotron-fluid\">\n",
    "\t\t\t<div class=\"container\">\n",
    "\t\t\t  <h1 class=\"display-4\">Projects</h1>\n",
    "\t\t\t  <p class=\"lead\">This is a section where I will post my finished projects.</p>\n",
    "\t\t\t</div>\n",
    "\t\t</div>\n",
    "\t\t<div class=\"album py-5 bg-light\">\n",
    "\t\t\t<div class=\"container\">\n",
    "\t\t\t  <div class=\"row\">\n",
    "\t\t\t\t<div class=\"col-md-4\">\n",
    "\t\t\t\t  <div class=\"card mb-4 shadow-sm\">\n",
    "\t\t\t\t\t<svg class=\"bd-placeholder-img card-img-top\" width=\"100%\" height=\"225\" xmlns=\"http://www.w3.org/2000/svg\" preserveAspectRatio=\"xMidYMid slice\" focusable=\"false\" role=\"img\" aria-label=\"Placeholder: Thumbnail\"><title>Placeholder</title><rect width=\"100%\" height=\"100%\" fill=\"#55595c\"/><text x=\"50%\" y=\"50%\" fill=\"#eceeef\" dy=\".3em\">Thumbnail</text></svg>\n",
    "\t\t\t\t\t<div class=\"card-body\">\n",
    "\t\t\t\t\t\t<h3> Hello this is a holder for something else.</h3>\t\n",
    "\t\t\t\t\t\t<p class=\"card-text\">This is a wider card with supporting text below as a natural lead-in to additional content. This content is a little bit longer.</p>\n",
    "\t\t\t\t\t\t<div class=\"d-flex justify-content-between align-items-center\">\n",
    "\t\t\t\t\t\t\t<div class=\"btn-group\">\n",
    "\t\t\t\t\t\t\t<button type=\"button\" class=\"btn btn-sm btn-outline-secondary\">View</button>\n",
    "\t\t\t\t\t\t\t</div>\n",
    "\t\t\t\t\t\t\t<small class=\"text-muted\">Date: </small>\n",
    "\t\t\t\t\t\t</div>\n",
    "\t\t\t\t\t</div>\n",
    "\t\t\t\t  </div>\n",
    "\t\t\t\t</div>\n",
    "\t\t\t\t<div class=\"col-md-4\">\n",
    "\t\t\t\t  <div class=\"card mb-4 shadow-sm\">\n",
    "\t\t\t\t\t<svg class=\"bd-placeholder-img card-img-top\" width=\"100%\" height=\"225\" xmlns=\"http://www.w3.org/2000/svg\" preserveAspectRatio=\"xMidYMid slice\" focusable=\"false\" role=\"img\" aria-label=\"Placeholder: Thumbnail\"><title>Placeholder</title><rect width=\"100%\" height=\"100%\" fill=\"#55595c\"/><text x=\"50%\" y=\"50%\" fill=\"#eceeef\" dy=\".3em\">Thumbnail</text></svg>\n",
    "\t\t\t\t\t<div class=\"card-body\">\n",
    "\t\t\t\t\t\t<h3>Sudoku Solver</h3>\n",
    "\t\t\t\t\t\t<p class=\"card-text\">Forays into JavaScript. Built a Suduko solver using recursive backtracking.?</p>\n",
    "\t\t\t\t\t\t<div class=\"d-flex justify-content-between align-items-center\">\n",
    "\t\t\t\t\t\t\t<div class=\"btn-group\">\n",
    "\t\t\t\t\t\t\t<button type=\"button\" class=\"btn btn-sm btn-outline-secondary\">View</button>\n",
    "\t\t\t\t\t\t\t</div>\n",
    "\t\t\t\t\t\t\t<small class=\"text-muted\">Date: </small>\n",
    "\t\t\t\t\t\t</div>\n",
    "\t\t\t\t\t</div>\n",
    "\t\t\t\t  </div>\n",
    "\t\t\t\t</div>\n",
    "\t\t\t\t<div class=\"col-md-4\">\n",
    "\t\t\t\t  <div class=\"card mb-4 shadow-sm\">\n",
    "\t\t\t\t\t<svg class=\"bd-placeholder-img card-img-top\" width=\"100%\" height=\"225\" xmlns=\"http://www.w3.org/2000/svg\" preserveAspectRatio=\"xMidYMid slice\" focusable=\"false\" role=\"img\" aria-label=\"Placeholder: Thumbnail\"><title>Placeholder</title><rect width=\"100%\" height=\"100%\" fill=\"#55595c\"/><text x=\"50%\" y=\"50%\" fill=\"#eceeef\" dy=\".3em\">Thumbnail</text></svg>\n",
    "\t\t\t\t\t<div class=\"card-body\">\n",
    "\t\t\t\t\t\t<h3>Ceramics</h3>\n",
    "\t\t\t\t\t\t<p class=\"card-text\">My pottery collection.</p>\n",
    "\t\t\t\t\t\t<div class=\"d-flex justify-content-between align-items-center\">\n",
    "\t\t\t\t\t\t\t<div class=\"btn-group\">\n",
    "\t\t\t\t\t\t\t<button type=\"button\" class=\"btn btn-sm btn-outline-secondary\">View</button>\n",
    "\t\t\t\t\t\t\t</div>\n",
    "\t\t\t\t\t\t\t<small class=\"text-muted\">Date: June 2018</small>\n",
    "\t\t\t\t\t\t</div>\n",
    "\t\t\t\t\t</div>\n",
    "\t\t\t\t  </div>\n",
    "\t\t\t\t</div>\n",
    "\t\t\t  </div>\n",
    "\t\t\t</div>\n",
    "\t\t  </div>\n",
    "\t\t<script src=\"https://code.jquery.com/jquery-3.4.1.slim.min.js\" integrity=\"sha384-J6qa4849blE2+poT4WnyKhv5vZF5SrPo0iEjwBvKU7imGFAV0wwj1yYfoRSJoZ+n\" crossorigin=\"anonymous\"></script>\n",
    "\t\t<script src=\"https://cdn.jsdelivr.net/npm/popper.js@1.16.0/dist/umd/popper.min.js\" integrity=\"sha384-Q6E9RHvbIyZFJoft+2mJbHaEWldlvI9IOYy5n3zV9zzTtmI3UksdQRVvoxMfooAo\" crossorigin=\"anonymous\"></script>\n",
    "\t\t<script src=\"https://stackpath.bootstrapcdn.com/bootstrap/4.4.1/js/bootstrap.min.js\" integrity=\"sha384-wfSDF2E50Y2D1uUdj0O3uMBJnjuUD4Ih7YwaYd1iqfktj0Uod8GCExl3Og8ifwB6\" crossorigin=\"anonymous\"></script>\n",
    "\t</body>\n",
    "<html>"
   ]
  },
  {
   "cell_type": "code",
   "execution_count": null,
   "metadata": {},
   "outputs": [],
   "source": []
  }
 ],
 "metadata": {
  "kernelspec": {
   "display_name": "Python 3",
   "language": "python",
   "name": "python3"
  },
  "language_info": {
   "codemirror_mode": {
    "name": "ipython",
    "version": 3
   },
   "file_extension": ".py",
   "mimetype": "text/x-python",
   "name": "python",
   "nbconvert_exporter": "python",
   "pygments_lexer": "ipython3",
   "version": "3.7.4"
  }
 },
 "nbformat": 4,
 "nbformat_minor": 2
}
